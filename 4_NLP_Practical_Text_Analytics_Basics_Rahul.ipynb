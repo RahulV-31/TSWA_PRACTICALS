{
  "nbformat": 4,
  "nbformat_minor": 0,
  "metadata": {
    "colab": {
      "provenance": []
    },
    "kernelspec": {
      "name": "python3",
      "display_name": "Python 3"
    },
    "language_info": {
      "name": "python"
    }
  },
  "cells": [
    {
      "cell_type": "markdown",
      "source": [
        "##TSWA PRACTICAL 4 - BASICS OF TEXT ANALYTICS"
      ],
      "metadata": {
        "id": "7B8euaruD6ZW"
      }
    },
    {
      "cell_type": "markdown",
      "source": [
        "### Working with Text\n",
        "### Types of strings\n",
        "### Simple Strings"
      ],
      "metadata": {
        "id": "P2ku5w9pEC5K"
      }
    },
    {
      "cell_type": "code",
      "source": [
        "simple_str1='Hello!!'+'I am a simple string'\n",
        "simple_str1"
      ],
      "metadata": {
        "id": "W28HHwiFEIGF",
        "outputId": "e9de665f-8f36-42f4-ae0e-8b618aceb6b0",
        "colab": {
          "base_uri": "https://localhost:8080/",
          "height": 55
        }
      },
      "execution_count": 1,
      "outputs": [
        {
          "output_type": "execute_result",
          "data": {
            "text/plain": [
              "'Hello!!I am a simple string'"
            ],
            "application/vnd.google.colaboratory.intrinsic+json": {
              "type": "string"
            }
          },
          "metadata": {},
          "execution_count": 1
        }
      ]
    },
    {
      "cell_type": "code",
      "source": [
        "multiline_str2='Hello!!\\n I am a simple string'\n",
        "print(multiline_str2)"
      ],
      "metadata": {
        "colab": {
          "base_uri": "https://localhost:8080/"
        },
        "id": "7DWEJJRrMKHT",
        "outputId": "3f5a8197-9b33-425b-b75a-02729b713442"
      },
      "execution_count": 2,
      "outputs": [
        {
          "output_type": "stream",
          "name": "stdout",
          "text": [
            "Hello!!\n",
            " I am a simple string\n"
          ]
        }
      ]
    },
    {
      "cell_type": "code",
      "source": [
        "# Extracting the text from the txt file\n",
        "Extract_str='/content/drive/MyDrive/text_data.txt'\n",
        "Extract_str"
      ],
      "metadata": {
        "colab": {
          "base_uri": "https://localhost:8080/",
          "height": 55
        },
        "id": "ChCRkj15MzKA",
        "outputId": "c4c1b46b-0e6e-48dc-a60a-6dd61e0ffacd"
      },
      "execution_count": 3,
      "outputs": [
        {
          "output_type": "execute_result",
          "data": {
            "text/plain": [
              "'/content/drive/MyDrive/text_data.txt'"
            ],
            "application/vnd.google.colaboratory.intrinsic+json": {
              "type": "string"
            }
          },
          "metadata": {},
          "execution_count": 3
        }
      ]
    },
    {
      "cell_type": "code",
      "source": [
        "# Deriving the raw string(wihtout the quotes)\n",
        "raw_str=r'/content/drive/MyDrive/text_data.txt'\n",
        "print(raw_str)"
      ],
      "metadata": {
        "colab": {
          "base_uri": "https://localhost:8080/"
        },
        "id": "myQG2lDdNje6",
        "outputId": "3f836111-1989-4cd6-e6ae-5accc5a2dfc7"
      },
      "execution_count": 4,
      "outputs": [
        {
          "output_type": "stream",
          "name": "stdout",
          "text": [
            "/content/drive/MyDrive/text_data.txt\n"
          ]
        }
      ]
    },
    {
      "cell_type": "code",
      "source": [
        "# Basic Opeartions on strings\n",
        "str1='Hello!!'+'and Welcome to '+'Text analytics!!'\n",
        "str1"
      ],
      "metadata": {
        "colab": {
          "base_uri": "https://localhost:8080/",
          "height": 55
        },
        "id": "-QyhGL1-OMkr",
        "outputId": "3e2a288e-2978-4ad9-d9c2-fccf8d5c2222"
      },
      "execution_count": 5,
      "outputs": [
        {
          "output_type": "execute_result",
          "data": {
            "text/plain": [
              "'Hello!!and Welcome to Text analytics!!'"
            ],
            "application/vnd.google.colaboratory.intrinsic+json": {
              "type": "string"
            }
          },
          "metadata": {},
          "execution_count": 5
        }
      ]
    },
    {
      "cell_type": "code",
      "source": [
        "str2='Hello!!''and Welcome to ''Text analytics!!'\n",
        "str2"
      ],
      "metadata": {
        "colab": {
          "base_uri": "https://localhost:8080/",
          "height": 55
        },
        "id": "jCBOVLISOlqz",
        "outputId": "1af1b704-0e65-41d9-e15c-fac646c4b826"
      },
      "execution_count": 6,
      "outputs": [
        {
          "output_type": "execute_result",
          "data": {
            "text/plain": [
              "'Hello!!and Welcome to Text analytics!!'"
            ],
            "application/vnd.google.colaboratory.intrinsic+json": {
              "type": "string"
            }
          },
          "metadata": {},
          "execution_count": 6
        }
      ]
    },
    {
      "cell_type": "code",
      "source": [
        "# Getting multiline text\n",
        "print(str1+'\\n'+str2)"
      ],
      "metadata": {
        "colab": {
          "base_uri": "https://localhost:8080/"
        },
        "id": "qkSwBDUdOxiI",
        "outputId": "64202bf0-e544-4cb7-fc12-682bdbdc39c9"
      },
      "execution_count": 7,
      "outputs": [
        {
          "output_type": "stream",
          "name": "stdout",
          "text": [
            "Hello!!and Welcome to Text analytics!!\n",
            "Hello!!and Welcome to Text analytics!!\n"
          ]
        }
      ]
    },
    {
      "cell_type": "code",
      "source": [
        "print(str1*2)"
      ],
      "metadata": {
        "colab": {
          "base_uri": "https://localhost:8080/"
        },
        "id": "8b0AbSInPB0M",
        "outputId": "8c34fc54-dfce-49d0-aeaf-1a499ddf08cb"
      },
      "execution_count": 8,
      "outputs": [
        {
          "output_type": "stream",
          "name": "stdout",
          "text": [
            "Hello!!and Welcome to Text analytics!!Hello!!and Welcome to Text analytics!!\n"
          ]
        }
      ]
    },
    {
      "cell_type": "code",
      "source": [
        "# Concatenating the multiple strings\n",
        "multiple_str=('This ''is ''the ''Text Analytics session.''\\n''Please feel free to ask the doubts')\n",
        "print(multiple_str)"
      ],
      "metadata": {
        "colab": {
          "base_uri": "https://localhost:8080/"
        },
        "id": "3JJuh6vHPNPt",
        "outputId": "c99dc2bd-5b4e-41cf-e070-36bc1b1ee018"
      },
      "execution_count": 9,
      "outputs": [
        {
          "output_type": "stream",
          "name": "stdout",
          "text": [
            "This is the Text Analytics session.\n",
            "Please feel free to ask the doubts\n"
          ]
        }
      ]
    },
    {
      "cell_type": "code",
      "source": [
        "# To find the length of the string\n",
        "print(len(multiple_str))"
      ],
      "metadata": {
        "colab": {
          "base_uri": "https://localhost:8080/"
        },
        "id": "q0DMD5meQBgs",
        "outputId": "5c167b5c-e051-433a-f38c-315478c2c267"
      },
      "execution_count": 10,
      "outputs": [
        {
          "output_type": "stream",
          "name": "stdout",
          "text": [
            "70\n"
          ]
        }
      ]
    },
    {
      "cell_type": "code",
      "source": [
        "# The check for the substring in a string, which returns true or false\n",
        "'This' in multiple_str"
      ],
      "metadata": {
        "colab": {
          "base_uri": "https://localhost:8080/"
        },
        "id": "8kAmH7H4QRkk",
        "outputId": "f248041d-57c8-4b00-adba-9f0bb86af85f"
      },
      "execution_count": 11,
      "outputs": [
        {
          "output_type": "execute_result",
          "data": {
            "text/plain": [
              "True"
            ]
          },
          "metadata": {},
          "execution_count": 11
        }
      ]
    },
    {
      "cell_type": "code",
      "source": [
        "'Web' in multiple_str"
      ],
      "metadata": {
        "colab": {
          "base_uri": "https://localhost:8080/"
        },
        "id": "Yj6kiNkTQkyb",
        "outputId": "6d4eea61-755d-49d9-d0a0-27dd807a53df"
      },
      "execution_count": 12,
      "outputs": [
        {
          "output_type": "execute_result",
          "data": {
            "text/plain": [
              "False"
            ]
          },
          "metadata": {},
          "execution_count": 12
        }
      ]
    },
    {
      "cell_type": "code",
      "source": [
        "# To create a string for indexing and slicing\n",
        "str2='Python'\n",
        "for index, character in enumerate(str2):\n",
        "  print(character,index)"
      ],
      "metadata": {
        "colab": {
          "base_uri": "https://localhost:8080/"
        },
        "id": "UZrLYSQsQxXE",
        "outputId": "3d0111e8-08c6-44c0-a36e-1c2af0a52ecd"
      },
      "execution_count": 13,
      "outputs": [
        {
          "output_type": "stream",
          "name": "stdout",
          "text": [
            "P 0\n",
            "y 1\n",
            "t 2\n",
            "h 3\n",
            "o 4\n",
            "n 5\n"
          ]
        }
      ]
    },
    {
      "cell_type": "code",
      "source": [
        "# Print the characters in the orginal order\n",
        "str2[0],str2[1],str2[2],str2[3],str2[4],str2[5]"
      ],
      "metadata": {
        "colab": {
          "base_uri": "https://localhost:8080/"
        },
        "id": "TqwriEzMRiyF",
        "outputId": "30ecf246-9a1d-40a6-c838-4f88515b87f1"
      },
      "execution_count": 14,
      "outputs": [
        {
          "output_type": "execute_result",
          "data": {
            "text/plain": [
              "('P', 'y', 't', 'h', 'o', 'n')"
            ]
          },
          "metadata": {},
          "execution_count": 14
        }
      ]
    },
    {
      "cell_type": "code",
      "source": [
        "# Print the characters in the reverse order\n",
        "str2[-1],str2[-2],str2[-3],str2[-4],str2[-5],str2[-6]"
      ],
      "metadata": {
        "colab": {
          "base_uri": "https://localhost:8080/"
        },
        "id": "WSeDHJhuRzDI",
        "outputId": "4f502872-c833-466e-f205-ee18856b5065"
      },
      "execution_count": 15,
      "outputs": [
        {
          "output_type": "execute_result",
          "data": {
            "text/plain": [
              "('n', 'o', 'h', 't', 'y', 'P')"
            ]
          },
          "metadata": {},
          "execution_count": 15
        }
      ]
    },
    {
      "cell_type": "code",
      "source": [
        "# String Slicing\n",
        "str2[:]"
      ],
      "metadata": {
        "colab": {
          "base_uri": "https://localhost:8080/",
          "height": 55
        },
        "id": "mP5vrQkTSOcc",
        "outputId": "993d5e60-8de2-4fe9-e4b4-155a21e231f4"
      },
      "execution_count": 16,
      "outputs": [
        {
          "output_type": "execute_result",
          "data": {
            "text/plain": [
              "'Python'"
            ],
            "application/vnd.google.colaboratory.intrinsic+json": {
              "type": "string"
            }
          },
          "metadata": {},
          "execution_count": 16
        }
      ]
    },
    {
      "cell_type": "code",
      "source": [
        "str2[1:5]"
      ],
      "metadata": {
        "colab": {
          "base_uri": "https://localhost:8080/",
          "height": 55
        },
        "id": "e_hvP341SbPR",
        "outputId": "a779a30c-c938-4700-9e18-1716fb56d100"
      },
      "execution_count": 17,
      "outputs": [
        {
          "output_type": "execute_result",
          "data": {
            "text/plain": [
              "'ytho'"
            ],
            "application/vnd.google.colaboratory.intrinsic+json": {
              "type": "string"
            }
          },
          "metadata": {},
          "execution_count": 17
        }
      ]
    },
    {
      "cell_type": "code",
      "source": [
        "# To print characters upto 2 < 3\n",
        "str2[:3]"
      ],
      "metadata": {
        "colab": {
          "base_uri": "https://localhost:8080/",
          "height": 55
        },
        "id": "weOOrX6NSqjE",
        "outputId": "e9b29968-e475-4b73-bae9-d582418feb99"
      },
      "execution_count": 18,
      "outputs": [
        {
          "output_type": "execute_result",
          "data": {
            "text/plain": [
              "'Pyt'"
            ],
            "application/vnd.google.colaboratory.intrinsic+json": {
              "type": "string"
            }
          },
          "metadata": {},
          "execution_count": 18
        }
      ]
    },
    {
      "cell_type": "code",
      "source": [
        "# To print characters beyond 3\n",
        "str2[3:]\n"
      ],
      "metadata": {
        "colab": {
          "base_uri": "https://localhost:8080/",
          "height": 55
        },
        "id": "mi58xRQ0S4Cg",
        "outputId": "d91a46e0-5316-4053-8e5e-806fbf42a664"
      },
      "execution_count": 19,
      "outputs": [
        {
          "output_type": "execute_result",
          "data": {
            "text/plain": [
              "'hon'"
            ],
            "application/vnd.google.colaboratory.intrinsic+json": {
              "type": "string"
            }
          },
          "metadata": {},
          "execution_count": 19
        }
      ]
    },
    {
      "cell_type": "code",
      "source": [
        "# Getting details of the string / text\n",
        "new_string = \"This is a String\" # storing a string\n",
        "print('ID:', id(new_string)) # shows the object identifier (address)\n",
        "print('Type:', type(new_string)) # shows the object type\n",
        "print('Value:', new_string) # shows the object value"
      ],
      "metadata": {
        "colab": {
          "base_uri": "https://localhost:8080/"
        },
        "id": "qJOCsxMZzXP9",
        "outputId": "97b583c2-7050-4a16-edb7-07c3f1faef4a"
      },
      "execution_count": 20,
      "outputs": [
        {
          "output_type": "stream",
          "name": "stdout",
          "text": [
            "ID: 137436119561392\n",
            "Type: <class 'str'>\n",
            "Value: This is a String\n"
          ]
        }
      ]
    },
    {
      "cell_type": "code",
      "source": [
        "# String Methods\n",
        "# creates a new string\n",
        "s=''\n",
        "print(s)"
      ],
      "metadata": {
        "colab": {
          "base_uri": "https://localhost:8080/"
        },
        "id": "KP8t_4WDdg4z",
        "outputId": "60230d4b-dd20-4e12-b2b7-919014c450e5"
      },
      "execution_count": 21,
      "outputs": [
        {
          "output_type": "stream",
          "name": "stdout",
          "text": [
            "\n"
          ]
        }
      ]
    },
    {
      "cell_type": "code",
      "source": [
        "print('orginal string id',id(s))\n",
        "# add a character to the string\n",
        "s='B'+s[1:]"
      ],
      "metadata": {
        "colab": {
          "base_uri": "https://localhost:8080/"
        },
        "id": "xupOEYVA14N5",
        "outputId": "ff4b8c43-d67b-49c4-8180-e7bf03d0e3ab"
      },
      "execution_count": 22,
      "outputs": [
        {
          "output_type": "stream",
          "name": "stdout",
          "text": [
            "orginal string id 137436552134704\n"
          ]
        }
      ]
    },
    {
      "cell_type": "code",
      "source": [
        "print(s)"
      ],
      "metadata": {
        "colab": {
          "base_uri": "https://localhost:8080/"
        },
        "id": "hIvqJUKf2Zy2",
        "outputId": "5979df26-f55d-485f-8a17-aad5879619b6"
      },
      "execution_count": 23,
      "outputs": [
        {
          "output_type": "stream",
          "name": "stdout",
          "text": [
            "B\n"
          ]
        }
      ]
    },
    {
      "cell_type": "code",
      "source": [
        "s='BIRLA'+s[1:]"
      ],
      "metadata": {
        "id": "aRqsvGaC2QfY"
      },
      "execution_count": 24,
      "outputs": []
    },
    {
      "cell_type": "code",
      "source": [
        "print(s)"
      ],
      "metadata": {
        "colab": {
          "base_uri": "https://localhost:8080/"
        },
        "id": "9SnMIFj02HyY",
        "outputId": "62569a01-af3b-497e-8fd4-0b070421a761"
      },
      "execution_count": 25,
      "outputs": [
        {
          "output_type": "stream",
          "name": "stdout",
          "text": [
            "BIRLA\n"
          ]
        }
      ]
    },
    {
      "cell_type": "code",
      "source": [
        "print('new string id',id(s))"
      ],
      "metadata": {
        "colab": {
          "base_uri": "https://localhost:8080/"
        },
        "id": "VKCo6VP02tJc",
        "outputId": "46355b58-15cb-455b-b45f-278a88fe6e97"
      },
      "execution_count": 26,
      "outputs": [
        {
          "output_type": "stream",
          "name": "stdout",
          "text": [
            "new string id 137436119601328\n"
          ]
        }
      ]
    },
    {
      "cell_type": "code",
      "source": [
        "# String Methods\n",
        "str='NLP is great!!'"
      ],
      "metadata": {
        "id": "ae92Xtsq3ATg"
      },
      "execution_count": 27,
      "outputs": []
    },
    {
      "cell_type": "code",
      "source": [
        "# case conversion\n",
        "# 1 Capitalise - First Character of the begining word will be capitalized\n",
        "str.capitalize()"
      ],
      "metadata": {
        "colab": {
          "base_uri": "https://localhost:8080/",
          "height": 55
        },
        "id": "anxWkuF83Ho7",
        "outputId": "1b126460-7530-47f4-b5ae-04796654fddc"
      },
      "execution_count": 28,
      "outputs": [
        {
          "output_type": "execute_result",
          "data": {
            "text/plain": [
              "'Nlp is great!!'"
            ],
            "application/vnd.google.colaboratory.intrinsic+json": {
              "type": "string"
            }
          },
          "metadata": {},
          "execution_count": 28
        }
      ]
    },
    {
      "cell_type": "code",
      "source": [
        "# 2 Upper case - all the characters will be in upper case\n",
        "str.upper()\n"
      ],
      "metadata": {
        "colab": {
          "base_uri": "https://localhost:8080/",
          "height": 55
        },
        "id": "W6YRy6OM3cXe",
        "outputId": "1c6ddbde-c98a-4ecf-bede-e0a01ffaf078"
      },
      "execution_count": 29,
      "outputs": [
        {
          "output_type": "execute_result",
          "data": {
            "text/plain": [
              "'NLP IS GREAT!!'"
            ],
            "application/vnd.google.colaboratory.intrinsic+json": {
              "type": "string"
            }
          },
          "metadata": {},
          "execution_count": 29
        }
      ]
    },
    {
      "cell_type": "code",
      "source": [
        "# 2 a Lower case - all the letters are in lower case\n",
        "str.lower()"
      ],
      "metadata": {
        "colab": {
          "base_uri": "https://localhost:8080/",
          "height": 55
        },
        "id": "JAHwwerb4Fun",
        "outputId": "9014cfdf-6a5a-4fff-af18-d33e5ec83049"
      },
      "execution_count": 30,
      "outputs": [
        {
          "output_type": "execute_result",
          "data": {
            "text/plain": [
              "'nlp is great!!'"
            ],
            "application/vnd.google.colaboratory.intrinsic+json": {
              "type": "string"
            }
          },
          "metadata": {},
          "execution_count": 30
        }
      ]
    },
    {
      "cell_type": "code",
      "source": [
        "# 3 Sentence in title case - first charcter of every word is in upper case\n",
        "str.title()"
      ],
      "metadata": {
        "colab": {
          "base_uri": "https://localhost:8080/",
          "height": 55
        },
        "id": "GsXvNn2z3qsz",
        "outputId": "0020942a-4841-4a56-f838-f8d797234e36"
      },
      "execution_count": 31,
      "outputs": [
        {
          "output_type": "execute_result",
          "data": {
            "text/plain": [
              "'Nlp Is Great!!'"
            ],
            "application/vnd.google.colaboratory.intrinsic+json": {
              "type": "string"
            }
          },
          "metadata": {},
          "execution_count": 31
        }
      ]
    },
    {
      "cell_type": "code",
      "source": [
        "# String replacment in the text\n",
        "str.replace('NLP','Python')"
      ],
      "metadata": {
        "colab": {
          "base_uri": "https://localhost:8080/",
          "height": 55
        },
        "id": "ElV2nmOd4SZC",
        "outputId": "e19bdbf1-2d49-452d-d41c-5e7f07652ea0"
      },
      "execution_count": 32,
      "outputs": [
        {
          "output_type": "execute_result",
          "data": {
            "text/plain": [
              "'Python is great!!'"
            ],
            "application/vnd.google.colaboratory.intrinsic+json": {
              "type": "string"
            }
          },
          "metadata": {},
          "execution_count": 32
        }
      ]
    },
    {
      "cell_type": "code",
      "source": [
        "# Checks on the strings/word- numeric, alpha, alphanumeric\n",
        "str.isnumeric()"
      ],
      "metadata": {
        "colab": {
          "base_uri": "https://localhost:8080/"
        },
        "id": "bqR6JJCm4iv9",
        "outputId": "159de705-ed4d-488c-b40b-ebd795d02cc3"
      },
      "execution_count": 33,
      "outputs": [
        {
          "output_type": "execute_result",
          "data": {
            "text/plain": [
              "False"
            ]
          },
          "metadata": {},
          "execution_count": 33
        }
      ]
    },
    {
      "cell_type": "code",
      "source": [
        "str.isalpha()"
      ],
      "metadata": {
        "colab": {
          "base_uri": "https://localhost:8080/"
        },
        "id": "n20goX6P4_rp",
        "outputId": "fd8e4dc9-9e35-4c6b-9f8d-a778a2f923a3"
      },
      "execution_count": 34,
      "outputs": [
        {
          "output_type": "execute_result",
          "data": {
            "text/plain": [
              "False"
            ]
          },
          "metadata": {},
          "execution_count": 34
        }
      ]
    },
    {
      "cell_type": "code",
      "source": [
        "str.isalnum()"
      ],
      "metadata": {
        "colab": {
          "base_uri": "https://localhost:8080/"
        },
        "id": "VwJzuSes5LP7",
        "outputId": "2656e866-6ccc-41ba-f585-408d092fdc71"
      },
      "execution_count": 35,
      "outputs": [
        {
          "output_type": "execute_result",
          "data": {
            "text/plain": [
              "False"
            ]
          },
          "metadata": {},
          "execution_count": 35
        }
      ]
    },
    {
      "cell_type": "code",
      "source": [
        "str1='12345'\n",
        "str1.isnumeric()"
      ],
      "metadata": {
        "colab": {
          "base_uri": "https://localhost:8080/"
        },
        "id": "QNxOwbma4-ry",
        "outputId": "9332c795-6c99-4927-a257-b29ee99e2d42"
      },
      "execution_count": 36,
      "outputs": [
        {
          "output_type": "execute_result",
          "data": {
            "text/plain": [
              "True"
            ]
          },
          "metadata": {},
          "execution_count": 36
        }
      ]
    },
    {
      "cell_type": "code",
      "source": [
        "str2='emp101'\n",
        "str2.isalnum()"
      ],
      "metadata": {
        "colab": {
          "base_uri": "https://localhost:8080/"
        },
        "id": "j-VfJfVK5mGF",
        "outputId": "7bfb4ab3-2318-4fa3-fb64-23e43dda0fd3"
      },
      "execution_count": 37,
      "outputs": [
        {
          "output_type": "execute_result",
          "data": {
            "text/plain": [
              "True"
            ]
          },
          "metadata": {},
          "execution_count": 37
        }
      ]
    },
    {
      "cell_type": "code",
      "source": [
        "str3='15+20'\n",
        "str3.isnumeric()"
      ],
      "metadata": {
        "colab": {
          "base_uri": "https://localhost:8080/"
        },
        "id": "tFVsCF4I5-A6",
        "outputId": "97713601-72ff-40ff-a403-3910a926a12d"
      },
      "execution_count": 38,
      "outputs": [
        {
          "output_type": "execute_result",
          "data": {
            "text/plain": [
              "False"
            ]
          },
          "metadata": {},
          "execution_count": 38
        }
      ]
    },
    {
      "cell_type": "code",
      "source": [
        "str3.isalpha()"
      ],
      "metadata": {
        "colab": {
          "base_uri": "https://localhost:8080/"
        },
        "id": "kA0rihP56UpR",
        "outputId": "44a846d9-ee18-4bd9-b843-a77c2666ef84"
      },
      "execution_count": 39,
      "outputs": [
        {
          "output_type": "execute_result",
          "data": {
            "text/plain": [
              "False"
            ]
          },
          "metadata": {},
          "execution_count": 39
        }
      ]
    },
    {
      "cell_type": "code",
      "source": [
        "str3.isalnum()"
      ],
      "metadata": {
        "colab": {
          "base_uri": "https://localhost:8080/"
        },
        "id": "qyEdqkkZ6WjR",
        "outputId": "94102112-f851-41b9-9428-35785a6e677c"
      },
      "execution_count": 40,
      "outputs": [
        {
          "output_type": "execute_result",
          "data": {
            "text/plain": [
              "False"
            ]
          },
          "metadata": {},
          "execution_count": 40
        }
      ]
    },
    {
      "cell_type": "code",
      "source": [
        "# to split, join, and strip the given strings\n",
        "str4='I, love, indian, food'"
      ],
      "metadata": {
        "id": "qMQHwI4-6lDd"
      },
      "execution_count": 41,
      "outputs": []
    },
    {
      "cell_type": "code",
      "source": [
        "# Split\n",
        "str4.split()"
      ],
      "metadata": {
        "colab": {
          "base_uri": "https://localhost:8080/"
        },
        "id": "5DYUY23e6ztV",
        "outputId": "1f2e55d9-a685-4e53-8956-fd4982b2054e"
      },
      "execution_count": 42,
      "outputs": [
        {
          "output_type": "execute_result",
          "data": {
            "text/plain": [
              "['I,', 'love,', 'indian,', 'food']"
            ]
          },
          "metadata": {},
          "execution_count": 42
        }
      ]
    },
    {
      "cell_type": "code",
      "source": [
        "# Joining the words by a blank space instead a ','\n",
        "' '.join(str4.split(','))"
      ],
      "metadata": {
        "colab": {
          "base_uri": "https://localhost:8080/",
          "height": 55
        },
        "id": "-Lkto4A87D9Q",
        "outputId": "bd823652-69bb-432b-c924-7daa8c437fbb"
      },
      "execution_count": 43,
      "outputs": [
        {
          "output_type": "execute_result",
          "data": {
            "text/plain": [
              "'I  love  indian  food'"
            ],
            "application/vnd.google.colaboratory.intrinsic+json": {
              "type": "string"
            }
          },
          "metadata": {},
          "execution_count": 43
        }
      ]
    },
    {
      "cell_type": "code",
      "source": [
        "str5='  Python is great!!'\n",
        "str5"
      ],
      "metadata": {
        "colab": {
          "base_uri": "https://localhost:8080/",
          "height": 55
        },
        "id": "ebziucJN8CRY",
        "outputId": "c6c32510-ba30-4665-8771-6a99ad329641"
      },
      "execution_count": 44,
      "outputs": [
        {
          "output_type": "execute_result",
          "data": {
            "text/plain": [
              "'  Python is great!!'"
            ],
            "application/vnd.google.colaboratory.intrinsic+json": {
              "type": "string"
            }
          },
          "metadata": {},
          "execution_count": 44
        }
      ]
    },
    {
      "cell_type": "code",
      "source": [
        "# Removing the blank space using 'strip'\n",
        "str5.strip()\n"
      ],
      "metadata": {
        "colab": {
          "base_uri": "https://localhost:8080/",
          "height": 55
        },
        "id": "oK_zhFRl8Yo9",
        "outputId": "8eebd3ca-2428-47aa-bba0-8b2700db3ca8"
      },
      "execution_count": 45,
      "outputs": [
        {
          "output_type": "execute_result",
          "data": {
            "text/plain": [
              "'Python is great!!'"
            ],
            "application/vnd.google.colaboratory.intrinsic+json": {
              "type": "string"
            }
          },
          "metadata": {},
          "execution_count": 45
        }
      ]
    },
    {
      "cell_type": "code",
      "source": [
        "# Sentences with mmutliple statements\n",
        "sent1='NLP is great. Python is excellent.'"
      ],
      "metadata": {
        "id": "GuohyyO28sCu"
      },
      "execution_count": 46,
      "outputs": []
    },
    {
      "cell_type": "code",
      "source": [
        "# Split the sentence\n",
        "sent1.split()"
      ],
      "metadata": {
        "colab": {
          "base_uri": "https://localhost:8080/"
        },
        "id": "pTxLWJ4L9ISI",
        "outputId": "12437aef-9d4c-4fe7-f709-af5a366265ef"
      },
      "execution_count": 47,
      "outputs": [
        {
          "output_type": "execute_result",
          "data": {
            "text/plain": [
              "['NLP', 'is', 'great.', 'Python', 'is', 'excellent.']"
            ]
          },
          "metadata": {},
          "execution_count": 47
        }
      ]
    },
    {
      "cell_type": "code",
      "source": [
        "# Display the sentences separately when they are separated by '.' and join them back\n",
        "# and display them on the two new lines\n",
        "print('\\n'.join(sent1.split('.')))"
      ],
      "metadata": {
        "colab": {
          "base_uri": "https://localhost:8080/"
        },
        "id": "SQcjQ9hk9ZcZ",
        "outputId": "5fddb3f4-2c7b-4290-80d3-9133e9811d87"
      },
      "execution_count": 48,
      "outputs": [
        {
          "output_type": "stream",
          "name": "stdout",
          "text": [
            "NLP is great\n",
            " Python is excellent\n",
            "\n"
          ]
        }
      ]
    },
    {
      "cell_type": "code",
      "source": [
        "sent1.strip()"
      ],
      "metadata": {
        "colab": {
          "base_uri": "https://localhost:8080/",
          "height": 55
        },
        "id": "-8NXt3Fs-qXa",
        "outputId": "a99fe1f5-f18f-4ac8-eca1-c0650029efce"
      },
      "execution_count": 49,
      "outputs": [
        {
          "output_type": "execute_result",
          "data": {
            "text/plain": [
              "'NLP is great. Python is excellent.'"
            ],
            "application/vnd.google.colaboratory.intrinsic+json": {
              "type": "string"
            }
          },
          "metadata": {},
          "execution_count": 49
        }
      ]
    },
    {
      "cell_type": "code",
      "source": [
        "# Printing every character on the new line\n",
        "print('\\n'.join(sent1.strip()))"
      ],
      "metadata": {
        "colab": {
          "base_uri": "https://localhost:8080/"
        },
        "id": "Dtthr2Dz-zbo",
        "outputId": "a893d622-967d-4cc2-d338-89f833d7d575"
      },
      "execution_count": 50,
      "outputs": [
        {
          "output_type": "stream",
          "name": "stdout",
          "text": [
            "N\n",
            "L\n",
            "P\n",
            " \n",
            "i\n",
            "s\n",
            " \n",
            "g\n",
            "r\n",
            "e\n",
            "a\n",
            "t\n",
            ".\n",
            " \n",
            "P\n",
            "y\n",
            "t\n",
            "h\n",
            "o\n",
            "n\n",
            " \n",
            "i\n",
            "s\n",
            " \n",
            "e\n",
            "x\n",
            "c\n",
            "e\n",
            "l\n",
            "l\n",
            "e\n",
            "n\n",
            "t\n",
            ".\n"
          ]
        }
      ]
    },
    {
      "cell_type": "code",
      "source": [
        "print('\\n'.join([sent1.strip() for sent1 in sent1.split('.') if sent1]))"
      ],
      "metadata": {
        "colab": {
          "base_uri": "https://localhost:8080/"
        },
        "id": "RGjHGC-3_GIw",
        "outputId": "44a63e7b-26ac-43cd-c7f4-7b109396fc82"
      },
      "execution_count": 51,
      "outputs": [
        {
          "output_type": "stream",
          "name": "stdout",
          "text": [
            "NLP is great\n",
            "Python is excellent\n"
          ]
        }
      ]
    },
    {
      "cell_type": "code",
      "source": [
        "'Hello %s' %('Python!')"
      ],
      "metadata": {
        "colab": {
          "base_uri": "https://localhost:8080/",
          "height": 55
        },
        "id": "FSX5DRz1Bpv5",
        "outputId": "5cf8630b-ae0a-42ad-e862-318b82918c00"
      },
      "execution_count": 52,
      "outputs": [
        {
          "output_type": "execute_result",
          "data": {
            "text/plain": [
              "'Hello Python!'"
            ],
            "application/vnd.google.colaboratory.intrinsic+json": {
              "type": "string"
            }
          },
          "metadata": {},
          "execution_count": 52
        }
      ]
    },
    {
      "cell_type": "code",
      "source": [
        "'Hello %s %s' %('World!', 'How are you?')"
      ],
      "metadata": {
        "colab": {
          "base_uri": "https://localhost:8080/",
          "height": 55
        },
        "id": "UNFkFR23BzTW",
        "outputId": "edbb0371-3077-46da-eb47-5e7a3998dd7b"
      },
      "execution_count": 53,
      "outputs": [
        {
          "output_type": "execute_result",
          "data": {
            "text/plain": [
              "'Hello World! How are you?'"
            ],
            "application/vnd.google.colaboratory.intrinsic+json": {
              "type": "string"
            }
          },
          "metadata": {},
          "execution_count": 53
        }
      ]
    },
    {
      "cell_type": "code",
      "source": [
        "'I want %d %s' %(2,'pens')"
      ],
      "metadata": {
        "colab": {
          "base_uri": "https://localhost:8080/",
          "height": 55
        },
        "id": "Kzmo5JrECFvi",
        "outputId": "45c7c412-2b2e-43eb-d838-07810016d599"
      },
      "execution_count": 54,
      "outputs": [
        {
          "output_type": "execute_result",
          "data": {
            "text/plain": [
              "'I want 2 pens'"
            ],
            "application/vnd.google.colaboratory.intrinsic+json": {
              "type": "string"
            }
          },
          "metadata": {},
          "execution_count": 54
        }
      ]
    },
    {
      "cell_type": "code",
      "source": [
        "# Formatting the string with new formatting methods - using string format {}\n",
        "'Hello {} {}, it is a great {} meeting you at {}'.format('Mr.','India','pleasure','5')"
      ],
      "metadata": {
        "colab": {
          "base_uri": "https://localhost:8080/",
          "height": 55
        },
        "id": "5VNvHAoDBLA_",
        "outputId": "40f4b0a5-4dd3-4bfb-8532-cc2748c95fb8"
      },
      "execution_count": 55,
      "outputs": [
        {
          "output_type": "execute_result",
          "data": {
            "text/plain": [
              "'Hello Mr. India, it is a great pleasure meeting you at 5'"
            ],
            "application/vnd.google.colaboratory.intrinsic+json": {
              "type": "string"
            }
          },
          "metadata": {},
          "execution_count": 55
        }
      ]
    },
    {
      "cell_type": "code",
      "source": [
        "'Hello {} {}, it is a great {} meeting you at {} o\\'clock'.format('Mr.','India','pleasure','5')"
      ],
      "metadata": {
        "colab": {
          "base_uri": "https://localhost:8080/",
          "height": 55
        },
        "id": "Vg3FYwR0DXPV",
        "outputId": "8133da0b-0795-40c4-8010-4fd198b2a0a8"
      },
      "execution_count": 56,
      "outputs": [
        {
          "output_type": "execute_result",
          "data": {
            "text/plain": [
              "\"Hello Mr. India, it is a great pleasure meeting you at 5 o'clock\""
            ],
            "application/vnd.google.colaboratory.intrinsic+json": {
              "type": "string"
            }
          },
          "metadata": {},
          "execution_count": 56
        }
      ]
    },
    {
      "cell_type": "code",
      "source": [
        "'Hello, I want one {food_item} and a {drink_item}'.format(food_item='vada_pav',drink_item='coffee')"
      ],
      "metadata": {
        "colab": {
          "base_uri": "https://localhost:8080/",
          "height": 55
        },
        "id": "Xt2A7v6nDvZG",
        "outputId": "91a7112a-7e39-4f9c-ea77-0f5ba3227503"
      },
      "execution_count": 57,
      "outputs": [
        {
          "output_type": "execute_result",
          "data": {
            "text/plain": [
              "'Hello, I want one vada_pav and a coffee'"
            ],
            "application/vnd.google.colaboratory.intrinsic+json": {
              "type": "string"
            }
          },
          "metadata": {},
          "execution_count": 57
        }
      ]
    },
    {
      "cell_type": "code",
      "source": [
        "'The {color} {animal} is {adj1} and {adj2}'.format(color='brown',animal='fox',adj1='quick',adj2='persistent')"
      ],
      "metadata": {
        "colab": {
          "base_uri": "https://localhost:8080/",
          "height": 55
        },
        "id": "YueOHiSWEj34",
        "outputId": "cdd9ddf9-0447-420a-9a98-3b576da3cff3"
      },
      "execution_count": 58,
      "outputs": [
        {
          "output_type": "execute_result",
          "data": {
            "text/plain": [
              "'The brown fox is quick and persistent'"
            ],
            "application/vnd.google.colaboratory.intrinsic+json": {
              "type": "string"
            }
          },
          "metadata": {},
          "execution_count": 58
        }
      ]
    },
    {
      "cell_type": "code",
      "source": [
        "'The {color} {animal} is {adj1} but {adj2}'.format(color='white',animal='rabbit',adj1='fast',adj2='lazy')"
      ],
      "metadata": {
        "colab": {
          "base_uri": "https://localhost:8080/",
          "height": 55
        },
        "id": "3sQIYoO7FS0U",
        "outputId": "2e7ebead-000d-4512-e657-41b6688cc3b5"
      },
      "execution_count": 59,
      "outputs": [
        {
          "output_type": "execute_result",
          "data": {
            "text/plain": [
              "'The white rabbit is fast but lazy'"
            ],
            "application/vnd.google.colaboratory.intrinsic+json": {
              "type": "string"
            }
          },
          "metadata": {},
          "execution_count": 59
        }
      ]
    },
    {
      "cell_type": "markdown",
      "source": [
        "### Working(creating and using) with regular expressions(regexes) using the module 're'\n",
        "### Regexes have the patterns denoted by thye raw string notations.\n",
        "### Pattens are matched using the string rules defined on the patterns\n",
        "### re module defines the flags which are used to match the particular pattern\n",
        "### re.I, re.S, re.U\n",
        "### Rules used for matching the patterns\n",
        "###. - matching a single character\n",
        "###^ - matching the start of the string\n",
        "###$ - matching the end of the string\n",
        "###* for matching zero\n",
        "### depending upon the requirement we can use variations of ., ^, $,...\n",
        "### | - OR, + , \\d (decimal), \\D(non - decimal) # \\s(white space), \\S(non - white space)\\w\n",
        "### (aplhanumeric),\\W(non- alphanumeric)\n",
        "### re.match(), re.search(), re.findall(),re.finditer(), re.sub(),........"
      ],
      "metadata": {
        "id": "DifCtKE3GHdY"
      }
    },
    {
      "cell_type": "code",
      "source": [
        "# working with regular expressions\n",
        "s1='Python is excellent Language'\n",
        "s2='I love Python Language. We can use python language for building the applications'"
      ],
      "metadata": {
        "id": "z22QWmmOF9EN"
      },
      "execution_count": 60,
      "outputs": []
    },
    {
      "cell_type": "code",
      "source": [
        "# Import re\n",
        "import re"
      ],
      "metadata": {
        "id": "ULnaP0_VI_ea"
      },
      "execution_count": 61,
      "outputs": []
    },
    {
      "cell_type": "code",
      "source": [
        "# define the patterns to be matched\n",
        "pattern1='python'\n",
        "pattern2='language'"
      ],
      "metadata": {
        "id": "yJ73tl_cJl2k"
      },
      "execution_count": 62,
      "outputs": []
    },
    {
      "cell_type": "code",
      "source": [
        "# match the patterns in teh sentences\n",
        "re.match(pattern1,s1)"
      ],
      "metadata": {
        "id": "piODBouyKC6A"
      },
      "execution_count": 63,
      "outputs": []
    },
    {
      "cell_type": "code",
      "source": [
        "re.match(pattern2,s1)"
      ],
      "metadata": {
        "id": "4kJTdEQPNlYZ"
      },
      "execution_count": 64,
      "outputs": []
    },
    {
      "cell_type": "code",
      "source": [
        "m1=re.match(pattern1,s1,flags=re.I) # IGNORCASE also wroks on the simialr lines"
      ],
      "metadata": {
        "id": "zS9CgHZoKQkA"
      },
      "execution_count": 65,
      "outputs": []
    },
    {
      "cell_type": "code",
      "source": [
        "m1.group(0)"
      ],
      "metadata": {
        "colab": {
          "base_uri": "https://localhost:8080/",
          "height": 55
        },
        "id": "nU5g-AXTLuRy",
        "outputId": "f2ff40d6-29d5-46f6-f146-0fb540315fcb"
      },
      "execution_count": 66,
      "outputs": [
        {
          "output_type": "execute_result",
          "data": {
            "text/plain": [
              "'Python'"
            ],
            "application/vnd.google.colaboratory.intrinsic+json": {
              "type": "string"
            }
          },
          "metadata": {},
          "execution_count": 66
        }
      ]
    },
    {
      "cell_type": "code",
      "source": [
        "m1.start()"
      ],
      "metadata": {
        "colab": {
          "base_uri": "https://localhost:8080/"
        },
        "id": "rQEkSg4SL89d",
        "outputId": "3ea41158-82f2-40b0-d05c-24626c02496e"
      },
      "execution_count": 67,
      "outputs": [
        {
          "output_type": "execute_result",
          "data": {
            "text/plain": [
              "0"
            ]
          },
          "metadata": {},
          "execution_count": 67
        }
      ]
    },
    {
      "cell_type": "code",
      "source": [
        "m1.end()"
      ],
      "metadata": {
        "colab": {
          "base_uri": "https://localhost:8080/"
        },
        "id": "f2CB6tzlMBVl",
        "outputId": "2bbae74c-1d6a-4081-a9fa-5c8dcc0d2733"
      },
      "execution_count": 68,
      "outputs": [
        {
          "output_type": "execute_result",
          "data": {
            "text/plain": [
              "6"
            ]
          },
          "metadata": {},
          "execution_count": 68
        }
      ]
    },
    {
      "cell_type": "code",
      "source": [
        "# Print the matches with their indexes in the orginal sentences\n",
        "print('Match is found {} ranging from the index {} - {} in the sentence {}'.format(m1.group(0),m1.start(),m1.end(),s1))"
      ],
      "metadata": {
        "colab": {
          "base_uri": "https://localhost:8080/"
        },
        "id": "LO8-aj1FK1uN",
        "outputId": "3cb44682-f4eb-48e4-a972-bb5fb4b40ed2"
      },
      "execution_count": 69,
      "outputs": [
        {
          "output_type": "stream",
          "name": "stdout",
          "text": [
            "Match is found Python ranging from the index 0 - 6 in the sentence Python is excellent Language\n"
          ]
        }
      ]
    },
    {
      "cell_type": "code",
      "source": [
        "m2=re.match(pattern2,s2,flags=re.I)"
      ],
      "metadata": {
        "id": "Z6dCojwHM11G"
      },
      "execution_count": 70,
      "outputs": []
    },
    {
      "cell_type": "code",
      "source": [
        "print(m2)"
      ],
      "metadata": {
        "colab": {
          "base_uri": "https://localhost:8080/"
        },
        "id": "XgSEOR-0OQYN",
        "outputId": "ee7cbdf3-2928-4ce6-ba3a-e1d0c738eb81"
      },
      "execution_count": 71,
      "outputs": [
        {
          "output_type": "stream",
          "name": "stdout",
          "text": [
            "None\n"
          ]
        }
      ]
    },
    {
      "cell_type": "markdown",
      "source": [
        "##Match does not work when pattern is not there in the beginning of sentence s2"
      ],
      "metadata": {
        "id": "HfJDD4stEyzX"
      }
    },
    {
      "cell_type": "code",
      "source": [
        "# illustrating find and search methods using the re module\n",
        "re.search(pattern2, s2, re.IGNORECASE)"
      ],
      "metadata": {
        "colab": {
          "base_uri": "https://localhost:8080/"
        },
        "id": "yVbZaG8AE3Ra",
        "outputId": "34066bb2-55a8-43f4-e84c-d6d9561a9bef"
      },
      "execution_count": 72,
      "outputs": [
        {
          "output_type": "execute_result",
          "data": {
            "text/plain": [
              "<re.Match object; span=(14, 22), match='Language'>"
            ]
          },
          "metadata": {},
          "execution_count": 72
        }
      ]
    },
    {
      "cell_type": "code",
      "source": [
        "re.findall(pattern1, s1, re.IGNORECASE)"
      ],
      "metadata": {
        "colab": {
          "base_uri": "https://localhost:8080/"
        },
        "id": "bpA1iWZV3uxp",
        "outputId": "d6036690-6f24-440b-b118-70ced83001a4"
      },
      "execution_count": 73,
      "outputs": [
        {
          "output_type": "execute_result",
          "data": {
            "text/plain": [
              "['Python']"
            ]
          },
          "metadata": {},
          "execution_count": 73
        }
      ]
    },
    {
      "cell_type": "code",
      "source": [
        "re.findall(pattern2, s2, re.IGNORECASE)"
      ],
      "metadata": {
        "colab": {
          "base_uri": "https://localhost:8080/"
        },
        "id": "TiS5YGWp3yeQ",
        "outputId": "11626d3e-b319-4b19-80a0-0c2c5eb37f6e"
      },
      "execution_count": 74,
      "outputs": [
        {
          "output_type": "execute_result",
          "data": {
            "text/plain": [
              "['Language', 'language']"
            ]
          },
          "metadata": {},
          "execution_count": 74
        }
      ]
    },
    {
      "cell_type": "code",
      "source": [
        "# To find all the occurences of pattern\n",
        "re.findall(pattern1, s2, re.IGNORECASE)"
      ],
      "metadata": {
        "colab": {
          "base_uri": "https://localhost:8080/"
        },
        "id": "TCBL0JIoFL1u",
        "outputId": "954690a6-f429-4877-e2d9-ad4923b67b12"
      },
      "execution_count": 75,
      "outputs": [
        {
          "output_type": "execute_result",
          "data": {
            "text/plain": [
              "['Python', 'python']"
            ]
          },
          "metadata": {},
          "execution_count": 75
        }
      ]
    },
    {
      "cell_type": "code",
      "source": [
        "re.findall(pattern2, s2,re.I)"
      ],
      "metadata": {
        "colab": {
          "base_uri": "https://localhost:8080/"
        },
        "id": "ndYP9pOdFGz3",
        "outputId": "d5e2202a-d8f7-458c-b255-b1e2adec414b"
      },
      "execution_count": 76,
      "outputs": [
        {
          "output_type": "execute_result",
          "data": {
            "text/plain": [
              "['Language', 'language']"
            ]
          },
          "metadata": {},
          "execution_count": 76
        }
      ]
    },
    {
      "cell_type": "code",
      "source": [
        "match_objs = re.finditer(pattern2, s2, re.IGNORECASE)"
      ],
      "metadata": {
        "id": "WPhES1bbFiHj"
      },
      "execution_count": 77,
      "outputs": []
    },
    {
      "cell_type": "code",
      "source": [
        "match_objs"
      ],
      "metadata": {
        "colab": {
          "base_uri": "https://localhost:8080/"
        },
        "id": "4hEKp5G3Fl4N",
        "outputId": "1409a0dc-6d14-4353-d6ea-7b9ed338cce4"
      },
      "execution_count": 78,
      "outputs": [
        {
          "output_type": "execute_result",
          "data": {
            "text/plain": [
              "<callable_iterator at 0x7cff57183160>"
            ]
          },
          "metadata": {},
          "execution_count": 78
        }
      ]
    },
    {
      "cell_type": "code",
      "source": [
        "print(match_objs)"
      ],
      "metadata": {
        "colab": {
          "base_uri": "https://localhost:8080/"
        },
        "id": "MMahGiJj4Q5h",
        "outputId": "94b7fea3-38d3-48f3-9b82-e694c119044b"
      },
      "execution_count": 79,
      "outputs": [
        {
          "output_type": "stream",
          "name": "stdout",
          "text": [
            "<callable_iterator object at 0x7cff57183160>\n"
          ]
        }
      ]
    },
    {
      "cell_type": "code",
      "source": [
        "print(\"Sentence :\", s2)"
      ],
      "metadata": {
        "colab": {
          "base_uri": "https://localhost:8080/"
        },
        "id": "VCVDRXOvFuKw",
        "outputId": "a5e3eb5a-346a-4e17-9d85-95b6c5d5206e"
      },
      "execution_count": 80,
      "outputs": [
        {
          "output_type": "stream",
          "name": "stdout",
          "text": [
            "Sentence : I love Python Language. We can use python language for building the applications\n"
          ]
        }
      ]
    },
    {
      "cell_type": "code",
      "source": [
        "for m in match_objs:\n",
        "  print(m.group(0))\n",
        "  print('Found match \"{}\" ranging from index {} - {}'.format\n",
        "(m.group(0), m.start(), m.end()))"
      ],
      "metadata": {
        "colab": {
          "base_uri": "https://localhost:8080/"
        },
        "id": "uEgCQBZMF2kn",
        "outputId": "72048e00-d27d-414b-89cf-c6de174e6293"
      },
      "execution_count": 81,
      "outputs": [
        {
          "output_type": "stream",
          "name": "stdout",
          "text": [
            "Language\n",
            "Found match \"Language\" ranging from index 14 - 22\n",
            "language\n",
            "Found match \"language\" ranging from index 42 - 50\n"
          ]
        }
      ]
    },
    {
      "cell_type": "markdown",
      "source": [
        "## Regular expressions for text substitution are useful to find and replace specific text tokens in strings."
      ],
      "metadata": {
        "id": "gFxmuYDcGDEK"
      }
    },
    {
      "cell_type": "code",
      "source": [
        "print(\"Sentence :\", s2)"
      ],
      "metadata": {
        "colab": {
          "base_uri": "https://localhost:8080/"
        },
        "id": "sm35Tc8y6CTw",
        "outputId": "adbc40ac-df1b-41ea-98ad-19fd7c31c601"
      },
      "execution_count": 82,
      "outputs": [
        {
          "output_type": "stream",
          "name": "stdout",
          "text": [
            "Sentence : I love Python Language. We can use python language for building the applications\n"
          ]
        }
      ]
    },
    {
      "cell_type": "code",
      "source": [
        "# illustrating pattern substitution using sub and subn methods\n",
        "re.sub(pattern1, 'Ruby', s2, flags=re.IGNORECASE)"
      ],
      "metadata": {
        "colab": {
          "base_uri": "https://localhost:8080/",
          "height": 55
        },
        "id": "UrmyPNNHGOOM",
        "outputId": "b1fc2b3e-8954-4229-cbb1-00b77abf89d1"
      },
      "execution_count": 83,
      "outputs": [
        {
          "output_type": "execute_result",
          "data": {
            "text/plain": [
              "'I love Ruby Language. We can use Ruby language for building the applications'"
            ],
            "application/vnd.google.colaboratory.intrinsic+json": {
              "type": "string"
            }
          },
          "metadata": {},
          "execution_count": 83
        }
      ]
    },
    {
      "cell_type": "code",
      "source": [
        "# To know how many times the replacement has been done\n",
        "re.subn(pattern1, 'Ruby', s2, flags=re.IGNORECASE)"
      ],
      "metadata": {
        "colab": {
          "base_uri": "https://localhost:8080/"
        },
        "id": "-0aZs6RrGleX",
        "outputId": "5293afd6-f92a-48f6-e7e2-5b8eca2e53f8"
      },
      "execution_count": 84,
      "outputs": [
        {
          "output_type": "execute_result",
          "data": {
            "text/plain": [
              "('I love Ruby Language. We can use Ruby language for building the applications',\n",
              " 2)"
            ]
          },
          "metadata": {},
          "execution_count": 84
        }
      ]
    },
    {
      "cell_type": "code",
      "source": [
        "# dealing with unicode matching using regexes\n",
        "s = u'H\\u00e8llo! this is Python 123 🐍'"
      ],
      "metadata": {
        "id": "NCtinzDoG0yQ"
      },
      "execution_count": 85,
      "outputs": []
    },
    {
      "cell_type": "code",
      "source": [
        "s"
      ],
      "metadata": {
        "colab": {
          "base_uri": "https://localhost:8080/",
          "height": 55
        },
        "id": "Rme4aJ3SG_C1",
        "outputId": "5da1287f-df93-49d4-b46e-77d92486eeeb"
      },
      "execution_count": 86,
      "outputs": [
        {
          "output_type": "execute_result",
          "data": {
            "text/plain": [
              "'Hèllo! this is Python 123 🐍'"
            ],
            "application/vnd.google.colaboratory.intrinsic+json": {
              "type": "string"
            }
          },
          "metadata": {},
          "execution_count": 86
        }
      ]
    },
    {
      "cell_type": "code",
      "source": [
        "re.findall(r'\\w+', s)"
      ],
      "metadata": {
        "colab": {
          "base_uri": "https://localhost:8080/"
        },
        "id": "AEStDVaEHOpo",
        "outputId": "3d55fb3e-9d6c-4c99-eb3d-bbf5141e9b7e"
      },
      "execution_count": 87,
      "outputs": [
        {
          "output_type": "execute_result",
          "data": {
            "text/plain": [
              "['Hèllo', 'this', 'is', 'Python', '123']"
            ]
          },
          "metadata": {},
          "execution_count": 87
        }
      ]
    },
    {
      "cell_type": "code",
      "source": [
        "re.findall(r'\\W+', s)"
      ],
      "metadata": {
        "colab": {
          "base_uri": "https://localhost:8080/"
        },
        "id": "9bLM_7Dt7qoE",
        "outputId": "debf8910-83c5-4925-98fe-e25c2802d8f8"
      },
      "execution_count": 88,
      "outputs": [
        {
          "output_type": "execute_result",
          "data": {
            "text/plain": [
              "['! ', ' ', ' ', ' ', ' 🐍']"
            ]
          },
          "metadata": {},
          "execution_count": 88
        }
      ]
    },
    {
      "cell_type": "code",
      "source": [
        "re.findall(r\"[A-Z]\\w+\", s, re.UNICODE)"
      ],
      "metadata": {
        "colab": {
          "base_uri": "https://localhost:8080/"
        },
        "id": "BhP46i5GHWP7",
        "outputId": "a64302ee-195f-401b-f70a-fe0c3c6e5e70"
      },
      "execution_count": 89,
      "outputs": [
        {
          "output_type": "execute_result",
          "data": {
            "text/plain": [
              "['Hèllo', 'Python']"
            ]
          },
          "metadata": {},
          "execution_count": 89
        }
      ]
    },
    {
      "cell_type": "markdown",
      "source": [
        "### There are multiple ways we can print the Emojis in Python. Let’s see how to print Emojis with Unicodes, CLDR names and emoji module.\n",
        "### Using Unicodes:\n",
        "### Every emoji has a Unicode associated with it. Emojis also have a CLDR short name, which can also be used.\n",
        "###From the list of unicodes, replace “+” with “000”. For example – “U+1F600” will become “U0001F600” and prefix the unicode with “\\” and print it."
      ],
      "metadata": {
        "id": "d7lITy36InCv"
      }
    },
    {
      "cell_type": "code",
      "source": [
        "# grinning face\n",
        "print(\"\\U0001f600\")\n",
        "# grinning squinting face\n",
        "print(\"\\U0001F606\")\n",
        "# rolling on the floor laughing\n",
        "print(\"\\U0001F923\")"
      ],
      "metadata": {
        "colab": {
          "base_uri": "https://localhost:8080/"
        },
        "id": "1VdO89lJIUm0",
        "outputId": "ee6d5659-21b7-4f89-b684-58226fa18c70"
      },
      "execution_count": 90,
      "outputs": [
        {
          "output_type": "stream",
          "name": "stdout",
          "text": [
            "😀\n",
            "😆\n",
            "🤣\n"
          ]
        }
      ]
    },
    {
      "cell_type": "markdown",
      "source": [
        "## Using CLDR short name:"
      ],
      "metadata": {
        "id": "A3W0kfP2JCRU"
      }
    },
    {
      "cell_type": "code",
      "source": [
        "# grinning face\n",
        "print(\"\\N{grinning face}\")\n",
        "# slightly smiling face\n",
        "print(\"\\N{slightly smiling face}\")\n",
        "# winking face\n",
        "print(\"\\N{winking face}\")"
      ],
      "metadata": {
        "colab": {
          "base_uri": "https://localhost:8080/"
        },
        "id": "Th_LrTA-I7JG",
        "outputId": "8d05d639-8fb7-46fd-db82-0d2bfe33133f"
      },
      "execution_count": 91,
      "outputs": [
        {
          "output_type": "stream",
          "name": "stdout",
          "text": [
            "😀\n",
            "🙂\n",
            "😉\n"
          ]
        }
      ]
    },
    {
      "cell_type": "code",
      "source": [
        "!pip install emoji"
      ],
      "metadata": {
        "colab": {
          "base_uri": "https://localhost:8080/"
        },
        "id": "5b1y0f6lJYBG",
        "outputId": "b669fc8f-4197-4074-83a0-0abf2c948e0a"
      },
      "execution_count": 92,
      "outputs": [
        {
          "output_type": "stream",
          "name": "stdout",
          "text": [
            "Collecting emoji\n",
            "  Downloading emoji-2.12.1-py3-none-any.whl (431 kB)\n",
            "\u001b[?25l     \u001b[90m━━━━━━━━━━━━━━━━━━━━━━━━━━━━━━━━━━━━━━━━\u001b[0m \u001b[32m0.0/431.4 kB\u001b[0m \u001b[31m?\u001b[0m eta \u001b[36m-:--:--\u001b[0m\r\u001b[2K     \u001b[91m━━━━━━━━━━━━━━━━━━━━━━━━━━━━━━━━━━━━━\u001b[0m\u001b[90m╺\u001b[0m\u001b[90m━━\u001b[0m \u001b[32m399.4/431.4 kB\u001b[0m \u001b[31m12.1 MB/s\u001b[0m eta \u001b[36m0:00:01\u001b[0m\r\u001b[2K     \u001b[90m━━━━━━━━━━━━━━━━━━━━━━━━━━━━━━━━━━━━━━━━\u001b[0m \u001b[32m431.4/431.4 kB\u001b[0m \u001b[31m8.4 MB/s\u001b[0m eta \u001b[36m0:00:00\u001b[0m\n",
            "\u001b[?25hRequirement already satisfied: typing-extensions>=4.7.0 in /usr/local/lib/python3.10/dist-packages (from emoji) (4.12.2)\n",
            "Installing collected packages: emoji\n",
            "Successfully installed emoji-2.12.1\n"
          ]
        }
      ]
    },
    {
      "cell_type": "code",
      "source": [
        "# import emoji module\n",
        "import emoji"
      ],
      "metadata": {
        "id": "WW_aFfS7Jh7l"
      },
      "execution_count": 93,
      "outputs": []
    },
    {
      "cell_type": "code",
      "source": [
        "print(emoji.emojize(\":grinning_face_with_big_eyes:\"))\n",
        "print(emoji.emojize(\":winking_face_with_tongue:\"))\n",
        "print(emoji.emojize(\":zipper-mouth_face:\"))\n",
        "print(emoji.emojize(\":grinning_face_with_big_eyes:\"))\n",
        "print(emoji.emojize(\":winking_face_with_tongue:\"))"
      ],
      "metadata": {
        "id": "8qL7tqf5Jm0O",
        "colab": {
          "base_uri": "https://localhost:8080/"
        },
        "outputId": "6d9e191d-627b-4c4a-b59a-74bf43bddad3"
      },
      "execution_count": 94,
      "outputs": [
        {
          "output_type": "stream",
          "name": "stdout",
          "text": [
            "😃\n",
            "😜\n",
            "🤐\n",
            "😃\n",
            "😜\n"
          ]
        }
      ]
    },
    {
      "cell_type": "code",
      "source": [
        "print(emoji.demojize(\":grinning_face_with_big_eyes:\"))\n",
        "print(emoji.demojize(\":winking_face_with_tongue:\"))\n",
        "print(emoji.demojize(\":zipper-mouth_face:\"))"
      ],
      "metadata": {
        "id": "gL0OGLWH8f9J",
        "colab": {
          "base_uri": "https://localhost:8080/"
        },
        "outputId": "97d6df0f-e445-4258-d50e-b0d08eb0a3fe"
      },
      "execution_count": 95,
      "outputs": [
        {
          "output_type": "stream",
          "name": "stdout",
          "text": [
            ":grinning_face_with_big_eyes:\n",
            ":winking_face_with_tongue:\n",
            ":zipper-mouth_face:\n"
          ]
        }
      ]
    }
  ]
}